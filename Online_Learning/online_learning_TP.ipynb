{
  "nbformat": 4,
  "nbformat_minor": 0,
  "metadata": {
    "colab": {
      "provenance": [],
      "toc_visible": true
    },
    "kernelspec": {
      "name": "python3",
      "display_name": "Python 3"
    },
    "language_info": {
      "name": "python"
    }
  },
  "cells": [
    {
      "cell_type": "markdown",
      "source": [
        "# Online Learning: Practical Session, \"Rock Paper Scissors\" (& possibly Lizard Spock and a Well if you are motivated or want to play)\n",
        "\n",
        "Teaching Assistant: Julien ZHOU, julien.zhou@inria.fr\n"
      ],
      "metadata": {
        "id": "-fkXm-1Q9QZz"
      }
    },
    {
      "cell_type": "code",
      "source": [
        "import numpy as np\n",
        "import matplotlib.pyplot as plt\n",
        "\n",
        "# Number of actions\n",
        "M=3\n",
        "names = [\"Rock\", \"Paper\", \"Scissors\"]\n",
        "# Solutions only for M=3, the Lizard and Spock got lost somewhere in Chartreuse, and the Well is haunted.\n",
        "p_init = np.array([1/M for i in range(M)])"
      ],
      "metadata": {
        "id": "p2c6VgHxECxw"
      },
      "execution_count": null,
      "outputs": []
    },
    {
      "cell_type": "markdown",
      "source": [
        "---\n",
        "## Setting\n",
        "We consider the sequential version of the following repeated two-players, zero-sum game.\n",
        "\n",
        "Let $M\\in\\mathbb{N}$ be a number of actions, $L\\in[-1, 1]^{M\\times M}$ be a loss matrix, and $T\\in\\mathbb{N}^*$ be a time horizon. \\\\\n",
        "At each round $t=1, \\dots, T$:\n",
        "- The player chooses a distribution $p_t\\in \\Delta_M:=\\{p\\in[0, 1]^M,\\ \\sum_{i=1}^M p_i=1\\}$.\n",
        "- The adversary chooses a distribution $q_t\\in\\Delta_M$.\n",
        "- Actions $i_t \\sim p_t$ and $j_t\\sim q_t$ are sampled for the player and the adversary.\n",
        "- The player incurr the loss $l_t=L(i_t, j_t)$ and the adversary $-L(i_t, j_t)$.\n",
        "\n",
        "BEWARE: The adversary choses its vector after the player, and can chose its distribution using the one of the player!"
      ],
      "metadata": {
        "id": "trcHY78F9948"
      }
    },
    {
      "cell_type": "markdown",
      "source": [
        "Let's assume that a win yields a loss $-1$, and a tie, $0$. What is the loss matrix $L$ of \"Rock, Paper, Scissors\"?\n",
        "\n",
        "\n",
        "(If you are bored, change the first cell of this document and add the Lizard, Spock and/or the Well, but I have not done it myself. You can also change the matrix so that losing/wining with a particular action is more costly than others)"
      ],
      "metadata": {
        "id": "IUTW9GttFAl2"
      }
    },
    {
      "cell_type": "code",
      "execution_count": null,
      "metadata": {
        "id": "u-MfeGQI70xp"
      },
      "outputs": [],
      "source": [
        "# Replace L with the right expression.\n",
        "L = None # an np array of shape (M, M)"
      ]
    },
    {
      "cell_type": "markdown",
      "source": [
        "---\n",
        "## Full information feedback\n",
        "\n",
        "We assume that both the player and the adversary know $L$ in advance.\n",
        "\n",
        "Given a distribution $p\\in\\Delta_M$, implement the function returning an action (in $0, \\dots, M-1$ because python is $0$-indexed)."
      ],
      "metadata": {
        "id": "__2Y2kfOK7O-"
      }
    },
    {
      "cell_type": "code",
      "source": [
        "def sample_action(p):\n",
        "  # p: an np.array of shape (M,); vector of weights in Delta_M\n",
        "  # Returns: An integer in 0, ..., M-1; sampled according to p\n",
        "\n",
        "  # Hint: you only need to sample a uniform distribution in [0, 1], use np.random.rand() only once.\n",
        "\n",
        "  # ---\n",
        "  # ADD YOUR CODE HERE\n",
        "  # ---\n",
        "  return"
      ],
      "metadata": {
        "id": "EV5ytjBoKrHU"
      },
      "execution_count": null,
      "outputs": []
    },
    {
      "cell_type": "markdown",
      "source": [
        "### Exponential Weighted Average\n",
        "We assume that the player uses an Exponential Weighted Average (EWA) strategy with learning rate $\\eta>0$.\n",
        "\n",
        "We denote $p_t\\in\\Delta_M$ the distribution chosen by the player at round $t\\in1, \\dots, T$ and $l_t\\in[-1, 1]^M$ the loss vector of this round. For round $t+1$, the new distribution defined by this strategy is defined, for all $i\\in 1, \\dots, M$ as:\n",
        "$$p_{t+1}(i) = \\frac{p_t(i)\\exp\\big(-\\eta l_t(i)\\big)}{\\sum_{j=1}^Mp_t(j)\\exp\\big(-\\eta l_t(j)\\big)}$$"
      ],
      "metadata": {
        "id": "yCBjsLWAR-My"
      }
    },
    {
      "cell_type": "code",
      "source": [
        "def EWA_update(eta, p, l):\n",
        "  # eta: learning rate\n",
        "  # p: an np.array of shape (M,); vector of weights in Delta_M; to be updated\n",
        "  # l: an np.array of shape (M,); vector of losses in [-1, 1]^M incurred by the player\n",
        "  # Returns: an np.array of shape (M,); p updated with the loss l\n",
        "\n",
        "  # ---\n",
        "  # ADD YOUR CODE HERE\n",
        "  # ---\n",
        "  return"
      ],
      "metadata": {
        "id": "0WqKLjJZM_GA"
      },
      "execution_count": null,
      "outputs": []
    },
    {
      "cell_type": "markdown",
      "source": [
        "#### Beating a fixed adversary\n",
        "We assume that the adversary uses a fixed distribution vector : $q_{fixed}=(1/3, 1/6, 1/2)$, unknown to us. Let's see how EWA fares.\n",
        "\n",
        "BEWARE: There can be several types of adversary. We first look at a \"fixed\" adversary who does not change. But in the worst case, the adversary can be aware of the strategy of the player. An in-between is a \"player-like\" adversary who adapt its strategy taking into consideration its own past actions and losses. To account for all these possibilities, the adversary decision is implemented as a function taking in argument:\n",
        "- a learning rate\n",
        "- the vector player by the adversary in the round before,\n",
        "- the loss incurred by him the round before,\n",
        "- the current decision of the player.\n",
        "\n",
        "If the adversary needs to make an update using an incurred loss at round t (just like EWA), he does it in the round t+1 after the player chose its vector.\n"
      ],
      "metadata": {
        "id": "1ULcbdEXVOzl"
      }
    },
    {
      "cell_type": "code",
      "source": [
        "q_fixed = np.array([1/3, 1/6, 1/2])\n",
        "\n",
        "def fixed_adversary_update(eta_adv, q, l, p):\n",
        "  # eta_adv: learning rate for the adversary\n",
        "  # q: an np.array of shape (M,); vector of weights in Delta_M used in round t-1 by the adversary\n",
        "  # l: an np.array of shape (M,t); vector of losses in [-1, 1]^M incurred by the adversary\n",
        "  # p: an np.array of shape (M,); vector of weights in Delta_M used in round t by the player\n",
        "  # Returns: q_fixed\n",
        "\n",
        "  return q_fixed"
      ],
      "metadata": {
        "id": "OxnxD7tRNG9B"
      },
      "execution_count": null,
      "outputs": []
    },
    {
      "cell_type": "markdown",
      "source": [
        "Simulate an instance of the game for $T=100$ rounds and a learning rate $\\eta=1$. Plot the evolution of the weight vector. What seems to be the best strategy?"
      ],
      "metadata": {
        "id": "1bahBqAgm_EX"
      }
    },
    {
      "cell_type": "code",
      "source": [
        "def single_run(T, update_fct, eta, adversary_update, eta_adv):\n",
        "  # T: horizon\n",
        "  # update_fct: function (eta, p, l) -> p, updating p with the loss for the player\n",
        "  # eta: learning rate for the player\n",
        "  # adversary_update: function (eta_adv, q, l, p) -> q, updating q with the a loss for the adversary\n",
        "  # eta_adv: learning rate for the adversary\n",
        "  # Returns: {\"weigths_player\": np.array((T, M)), \"loss_player_logs\": np.array((T,)), \"weigths_adv\": np.array((T, M))}\n",
        "\n",
        "  p = p_init\n",
        "  q = p_init\n",
        "  weights_player = np.zeros((T, M))\n",
        "  loss_player_logs = np.zeros((T,))\n",
        "  weights_adv = np.zeros((T, M))\n",
        "  loss_player = None # array(M,)\n",
        "  loss_adversary = None # array(M,)\n",
        "  for t in range(T):\n",
        "    # ---\n",
        "    # ADD YOUR CODE HERE\n",
        "    # See the setting\n",
        "    # ---\n",
        "    pass\n",
        "  return{\"weights_player\": weights_player,\n",
        "         \"loss_player_logs\": loss_player_logs,\n",
        "         \"weights_adv\": weights_adv}"
      ],
      "metadata": {
        "id": "WYrXUAYQNHsi"
      },
      "execution_count": null,
      "outputs": []
    },
    {
      "cell_type": "code",
      "source": [
        "T=100\n",
        "eta = 1\n",
        "eta_adv = 1\n",
        "\n",
        "results = single_run(T, EWA_update, eta, fixed_adversary_update, eta_adv)"
      ],
      "metadata": {
        "id": "uPGcZfBSO93d"
      },
      "execution_count": null,
      "outputs": []
    },
    {
      "cell_type": "code",
      "source": [
        "plt.title(\"Action weights over time against a fixed adversary\")\n",
        "# ---\n",
        "# ADD YOUR CODE HERE\n",
        "# ---"
      ],
      "metadata": {
        "colab": {
          "base_uri": "https://localhost:8080/",
          "height": 469
        },
        "id": "5KA5cO4aovP_",
        "outputId": "4d6d2dfc-2654-4fb6-8402-8dbde56f00e7"
      },
      "execution_count": null,
      "outputs": [
        {
          "output_type": "execute_result",
          "data": {
            "text/plain": [
              "Text(0.5, 1.0, 'Action weights over time against a fixed adversary')"
            ]
          },
          "metadata": {},
          "execution_count": 8
        },
        {
          "output_type": "display_data",
          "data": {
            "text/plain": [
              "<Figure size 640x480 with 1 Axes>"
            ],
            "image/png": "[encoded data removed]"
          },
          "metadata": {}
        }
      ]
    },
    {
      "cell_type": "markdown",
      "source": [
        "Repeat the experiment $n_{exp}=200$ times, for an horizon of $T=100$ rounds. Plot the average loss $\\bar{l}_t = \\frac{1}{t}\\sum_{s=1}^tL(i_s, j_s)$ with respect to time (averaged over the experiments). Comment."
      ],
      "metadata": {
        "id": "2IPoCKMA0Iuv"
      }
    },
    {
      "cell_type": "code",
      "source": [
        "def runs_experiment(T, update_fct, eta, adversary_update, eta_adv, n_exp):\n",
        "  # T: horizon\n",
        "  # update_fct: function (eta, p, l) -> p, updating p with the loss\n",
        "  # eta: learning rate\n",
        "  # adversary_update: function (eta_adv, q, l, p) -> q, updating q with the loss for the adversary\n",
        "  # eta_adv: learning rate for the adversary\n",
        "  # n_exp: number of runs\n",
        "  # Returns: {\"weigths_player\": np.array((n_exp, T, M)), \"loss_player_logs\": np.array((n_exp, T)), \"weigths_adv\": np.array((n_exp, T, M))}\n",
        "\n",
        "  weights_player = np.zeros((n_exp, T, M))\n",
        "  loss_player_logs = np.zeros((n_exp, T))\n",
        "  weights_adv = np.zeros((n_exp, T, M))\n",
        "  for n in range(n_exp):\n",
        "    # ---\n",
        "    # ADD YOUR CODE HERE\n",
        "    # Run single experiments and log the results\n",
        "    # ---\n",
        "    pass\n",
        "  return{\"weights_player\": weights_player,\n",
        "         \"loss_player_logs\": loss_player_logs,\n",
        "         \"weights_adv\": weights_adv}"
      ],
      "metadata": {
        "id": "4PCHNgBX392z"
      },
      "execution_count": null,
      "outputs": []
    },
    {
      "cell_type": "code",
      "source": [
        "T=100\n",
        "eta = 1\n",
        "eta_adv = 1\n",
        "n_exp = 200\n",
        "\n",
        "results = runs_experiment(T, EWA_update, eta, fixed_adversary_update, eta_adv, n_exp)"
      ],
      "metadata": {
        "id": "aO4bO3ZeTW8o"
      },
      "execution_count": null,
      "outputs": []
    },
    {
      "cell_type": "code",
      "source": [
        "plt.title(\"Average loss against a fixed adversary\")\n",
        "# ---\n",
        "# ADD YOUR CODE HERE\n",
        "# ---"
      ],
      "metadata": {
        "id": "8pIEJ09aNx5s",
        "colab": {
          "base_uri": "https://localhost:8080/",
          "height": 469
        },
        "outputId": "92a67019-ad4a-4afb-da32-06961a80c59e"
      },
      "execution_count": null,
      "outputs": [
        {
          "output_type": "execute_result",
          "data": {
            "text/plain": [
              "Text(0.5, 1.0, 'Average loss against a fixed adversary')"
            ]
          },
          "metadata": {},
          "execution_count": 11
        },
        {
          "output_type": "display_data",
          "data": {
            "text/plain": [
              "<Figure size 640x480 with 1 Axes>"
            ],
            "image/png": "[encoded data removed]"
          },
          "metadata": {}
        }
      ]
    },
    {
      "cell_type": "markdown",
      "source": [
        "Repeat the simulations for different learning rates $\\eta\\in\\{0.01, 0.05, 0.5, 1\\}$. What are the best learning rate in practice and in theory?"
      ],
      "metadata": {
        "id": "XWPw2ibR0vi3"
      }
    },
    {
      "cell_type": "code",
      "source": [
        "T=100\n",
        "eta_theory = None # Add the theoretical value here\n",
        "eta_theory"
      ],
      "metadata": {
        "id": "Cq1EPVXBzUO5"
      },
      "execution_count": null,
      "outputs": []
    },
    {
      "cell_type": "code",
      "source": [
        "def eta_experiments(T, update_fct, eta_list, adversary_update, eta_adv, n_exp):\n",
        "  # T: horizon\n",
        "  # update_fct: function (eta, p, l) -> p, updating p with the loss\n",
        "  # eta_list: list of learning rates to test\n",
        "  # adversary_update: function (eta_adv, q, p, l) -> q, updating q with the a loss for the adversary\n",
        "  # eta_adv: learning rate for the adversary\n",
        "  # n_exp: number of runs\n",
        "  # Returns: {\"weigths_player\": np.array((len(eta_list), n_exp, T, M)), \"incurred_loss\": np.array((len(eta_list), n_exp, T))}\n",
        "\n",
        "  weights_player = np.zeros((len(eta_list), n_exp, T, M))\n",
        "  loss_player_logs = np.zeros((len(eta_list), n_exp, T))\n",
        "  for e in range(len(eta_list)):\n",
        "    eta = eta_list[e]\n",
        "    # ---\n",
        "    # ADD YOUR CODE HERE\n",
        "    # ---\n",
        "\n",
        "  return{\"weights_player\": weights_player,\n",
        "         \"loss_player_logs\": loss_player_logs}"
      ],
      "metadata": {
        "id": "LkgV6c7Q1I8v"
      },
      "execution_count": null,
      "outputs": []
    },
    {
      "cell_type": "code",
      "source": [
        "T=100\n",
        "eta_list = [0.01, 0.03, 0.1, 0.3, 1]\n",
        "eta_adv = 1\n",
        "n_exp = 200\n",
        "\n",
        "results = eta_experiments(T, EWA_update, eta_list, fixed_adversary_update, eta_adv, n_exp)"
      ],
      "metadata": {
        "id": "c_w4CSRGWcXp"
      },
      "execution_count": null,
      "outputs": []
    },
    {
      "cell_type": "code",
      "source": [
        "plt.title(\"Average loss with constant adversary\")\n",
        "# ---\n",
        "# ADD YOUR CODE HERE\n",
        "# ---"
      ],
      "metadata": {
        "colab": {
          "base_uri": "https://localhost:8080/",
          "height": 469
        },
        "id": "TAiwTqJy1J6l",
        "outputId": "ded8ed3f-dc8f-416f-cf3d-83a7d43a1983"
      },
      "execution_count": null,
      "outputs": [
        {
          "output_type": "execute_result",
          "data": {
            "text/plain": [
              "Text(0.5, 1.0, 'Average loss with constant adversary')"
            ]
          },
          "metadata": {},
          "execution_count": 15
        },
        {
          "output_type": "display_data",
          "data": {
            "text/plain": [
              "<Figure size 640x480 with 1 Axes>"
            ],
            "image/png": "[encoded data removed]"
          },
          "metadata": {}
        }
      ]
    },
    {
      "cell_type": "markdown",
      "source": [
        "For each of these learning rate, plot the evolution of the weights for one of the runs."
      ],
      "metadata": {
        "id": "HcXJXFtEiCT_"
      }
    },
    {
      "cell_type": "code",
      "source": [
        "# ---\n",
        "# ADD YOUR CODE HERE\n",
        "# ---"
      ],
      "metadata": {
        "id": "rAQ_hiQgZCZ_"
      },
      "execution_count": null,
      "outputs": []
    },
    {
      "cell_type": "markdown",
      "source": [
        "#### Adversarial adversary\n",
        "\n",
        "Now, repeat the experiments with an adversary always taking the worst possible action for the player (if several actions are possible, it samples one randomly). Comment."
      ],
      "metadata": {
        "id": "1nhOK7ERzHYv"
      }
    },
    {
      "cell_type": "code",
      "source": [
        "def adversarial_adversary_update(eta_adv, q, l, p):\n",
        "  # eta_adv: learning rate for the adversary\n",
        "  # q: an np.array of shape (M,); vector of weights in Delta_M used in round t-1 by the adversary\n",
        "  # l: an np.array of shape (M,t); vector of losses in [-1, 1]^M incurred by the adversary\n",
        "  # p: an np.array of shape (M,); vector of weights in Delta_M used in round t by the player\n",
        "  # Returns: q_adversarial\n",
        "\n",
        "  # ---\n",
        "  # ADD YOUR CODE HERE\n",
        "  # ---\n",
        "  return"
      ],
      "metadata": {
        "id": "9XTIcUZ0EmbT"
      },
      "execution_count": null,
      "outputs": []
    },
    {
      "cell_type": "code",
      "source": [
        "T=100\n",
        "eta_list = [0.01, 0.03, 0.1, 0.3, 1]\n",
        "eta_adv=1\n",
        "n_exp = 200\n",
        "\n",
        "results = eta_experiments(T, EWA_update, eta_list, adversarial_adversary_update, eta_adv, n_exp)"
      ],
      "metadata": {
        "id": "i3404vyzJSPV"
      },
      "execution_count": null,
      "outputs": []
    },
    {
      "cell_type": "code",
      "source": [
        "plt.title(\"Average loss with adversarial adversary\")\n",
        "# ---\n",
        "# ADD YOUR CODE HERE\n",
        "# ---"
      ],
      "metadata": {
        "colab": {
          "base_uri": "https://localhost:8080/",
          "height": 469
        },
        "id": "PBnJh0PuJcwb",
        "outputId": "d3e3ba51-1b8a-4162-8a84-3e787d2ecc76"
      },
      "execution_count": null,
      "outputs": [
        {
          "output_type": "execute_result",
          "data": {
            "text/plain": [
              "Text(0.5, 1.0, 'Average loss with adversarial adversary')"
            ]
          },
          "metadata": {},
          "execution_count": 19
        },
        {
          "output_type": "display_data",
          "data": {
            "text/plain": [
              "<Figure size 640x480 with 1 Axes>"
            ],
            "image/png": "[encoded data removed]"
          },
          "metadata": {}
        }
      ]
    },
    {
      "cell_type": "code",
      "source": [
        "# ---\n",
        "# ADD YOUR CODE HERE\n",
        "# ---"
      ],
      "metadata": {
        "id": "JxX0M8YvqtoK"
      },
      "execution_count": null,
      "outputs": []
    },
    {
      "cell_type": "markdown",
      "source": [
        "### Online Gradient Descent\n",
        "Now let's implement Online Gradient Descent (OGD), to eventually have it play against EWA.\n",
        "\n",
        "For a learning rate $\\eta>0$, we remind that the update of OGD proceeds as:\n",
        "$$p_{t+1} = \\Pi_{\\Delta_M}\\big(p_t-\\eta\\nabla l(p_t)\\big)$$\n",
        "where:\n",
        "- $\\Pi_{\\Delta_M}$ denotes the projection on the unit simplex in dimension $M$,\n",
        "- $l:x\\in\\Delta_M\\mapsto \\big(x(i)L(i,j)\\big)_{j\\in 1,\\dots,M}\\in[-1, 1]^M$."
      ],
      "metadata": {
        "id": "o2zyFDA49rWw"
      }
    },
    {
      "cell_type": "markdown",
      "source": [
        "#### Projection on the unit simplex\n",
        "\n",
        "Here is a simple algorithm to implement (Source at the end of the document).\n",
        "\n",
        "Let $x=\\big(x(i)\\big)\\in\\mathbb{R}^M$,\n",
        "- Sort the coordinates of x into $y_1\\geq y_2\\geq\\dots\\geq y_M$,\n",
        "- Find\n",
        "$$ \\rho=\\max\\Big\\{j\\in 1,\\dots,M:\\ y_j-\\frac{1}{j}\\big(\\sum_{r=1}^jy_r-1\\big)>0\\Big\\},$$\n",
        "- Define $z = \\frac{1}{\\rho}\\big(\\sum_{r=1}^jy_r-1\\big)$,\n",
        "- Return, for all $i=1, \\dots,M$\n",
        "$$\\big(\\Pi_{\\Delta_M}(x)\\big)(i) = \\max\\big\\{x(i)-z, 0\\big\\}$$\n"
      ],
      "metadata": {
        "id": "rPJC-TFSop1J"
      }
    },
    {
      "cell_type": "code",
      "source": [
        "# Projection on the simplex.\n",
        "def proj_simplex(p):\n",
        "  # p: vector in R^M\n",
        "  # Returns: a vector in Delta_M\n",
        "\n",
        "  # ---\n",
        "  # ADD YOUR CODE HERE\n",
        "  # ---\n",
        "  return"
      ],
      "metadata": {
        "id": "_3IP4I6A2hir"
      },
      "execution_count": null,
      "outputs": []
    },
    {
      "cell_type": "markdown",
      "source": [
        "#### OGD Implementation\n",
        "We can now implement OGD easily."
      ],
      "metadata": {
        "id": "UXu7T8ewwowu"
      }
    },
    {
      "cell_type": "code",
      "source": [
        "def OGD_update(eta, p, l, q=None):\n",
        "  # eta: learning rate\n",
        "  # p: an np.array of shape (M,); vector of weights in Delta_M; to be updated\n",
        "  # l: an np.array of shape (M,); vector of losses in [-1, 1]^M\n",
        "  # q: weights used by the player, (when OGD is used as the adversary)\n",
        "  # Returns: an np.array of shape (M,); p updated with the loss l\n",
        "\n",
        "  if l is None:\n",
        "    # Case for the first round when OGD is used as an adversary\n",
        "    # ---\n",
        "    # ADD YOUR CODE HERE\n",
        "    # ---\n",
        "    pass\n",
        "  else:\n",
        "    # ---\n",
        "    # ADD YOUR CODE HERE\n",
        "    # ---\n",
        "    pass\n",
        "  return"
      ],
      "metadata": {
        "id": "pYawwCJz3lY_"
      },
      "execution_count": null,
      "outputs": []
    },
    {
      "cell_type": "markdown",
      "source": [
        "#### Experiments\n",
        "Repeat the same experiments"
      ],
      "metadata": {
        "id": "UM4o7wmBswv-"
      }
    },
    {
      "cell_type": "code",
      "source": [
        "T=100\n",
        "eta_list = [0.01, 0.03, 0.1, 0.3, 1]\n",
        "eta_adv = 1\n",
        "n_exp = 200\n",
        "\n",
        "results = eta_experiments(T, OGD_update, eta_list, fixed_adversary_update, eta_adv, n_exp)"
      ],
      "metadata": {
        "id": "H_eLGOVnuAkP"
      },
      "execution_count": null,
      "outputs": []
    },
    {
      "cell_type": "code",
      "source": [
        "plt.title(\"Average loss with fixed adversary\")\n",
        "# ---\n",
        "# ADD YOUR CODE HERE\n",
        "# ---"
      ],
      "metadata": {
        "colab": {
          "base_uri": "https://localhost:8080/",
          "height": 469
        },
        "id": "G1USdPc2sF7E",
        "outputId": "a57dedf7-cf1d-4e4b-a8ee-c9552c25cddf"
      },
      "execution_count": null,
      "outputs": [
        {
          "output_type": "execute_result",
          "data": {
            "text/plain": [
              "Text(0.5, 1.0, 'Average loss with fixed adversary')"
            ]
          },
          "metadata": {},
          "execution_count": 24
        },
        {
          "output_type": "display_data",
          "data": {
            "text/plain": [
              "<Figure size 640x480 with 1 Axes>"
            ],
            "image/png": "[encoded data removed]"
          },
          "metadata": {}
        }
      ]
    },
    {
      "cell_type": "code",
      "source": [
        "# ---\n",
        "# ADD YOUR CODE HERE\n",
        "# ---"
      ],
      "metadata": {
        "id": "VUx9tC52sLCN"
      },
      "execution_count": null,
      "outputs": []
    },
    {
      "cell_type": "code",
      "source": [
        "T=100\n",
        "eta_list = [0.01, 0.03, 0.1, 0.3, 1]\n",
        "eta_adv = 1\n",
        "n_exp = 200\n",
        "\n",
        "results = eta_experiments(T, OGD_update, eta_list, adversarial_adversary_update, eta_adv, n_exp)"
      ],
      "metadata": {
        "id": "WoRO8rPRsQK9"
      },
      "execution_count": null,
      "outputs": []
    },
    {
      "cell_type": "code",
      "source": [
        "plt.title(\"Average loss with adversarial adversary\")\n",
        "# ---\n",
        "# ADD YOUR CODE HERE\n",
        "# ---"
      ],
      "metadata": {
        "colab": {
          "base_uri": "https://localhost:8080/",
          "height": 469
        },
        "id": "QDtAVPLDsVlK",
        "outputId": "8c514066-4d76-4244-86c1-808545e12c86"
      },
      "execution_count": null,
      "outputs": [
        {
          "output_type": "execute_result",
          "data": {
            "text/plain": [
              "Text(0.5, 1.0, 'Average loss with adversarial adversary')"
            ]
          },
          "metadata": {},
          "execution_count": 27
        },
        {
          "output_type": "display_data",
          "data": {
            "text/plain": [
              "<Figure size 640x480 with 1 Axes>"
            ],
            "image/png": "[encoded data removed]"
          },
          "metadata": {}
        }
      ]
    },
    {
      "cell_type": "code",
      "source": [
        "# ---\n",
        "# ADD YOUR CODE HERE\n",
        "# ---"
      ],
      "metadata": {
        "id": "WnbdiKyNsq1a"
      },
      "execution_count": null,
      "outputs": []
    },
    {
      "cell_type": "markdown",
      "source": [
        "### EWA VS OGD\n",
        "\n",
        "Run experiments with EWA facing OGD."
      ],
      "metadata": {
        "id": "GQwt1DlFs6Om"
      }
    },
    {
      "cell_type": "code",
      "source": [
        "T=100\n",
        "eta_EWA = 0.1\n",
        "eta_OGD = 0.1\n",
        "n_exp = 200\n",
        "\n",
        "results = runs_experiment(T, EWA_update, eta_EWA, OGD_update, eta_OGD, n_exp)"
      ],
      "metadata": {
        "id": "RTsnz_UstxqR"
      },
      "execution_count": null,
      "outputs": []
    },
    {
      "cell_type": "markdown",
      "source": [
        "Observe the evolution of the weights of each player for one of the experiments."
      ],
      "metadata": {
        "id": "ZJ4HPubjWwZ-"
      }
    },
    {
      "cell_type": "code",
      "source": [
        "# ---\n",
        "# ADD YOUR CODE HERE\n",
        "# ---"
      ],
      "metadata": {
        "id": "YjckDmIcxQRd"
      },
      "execution_count": null,
      "outputs": []
    },
    {
      "cell_type": "markdown",
      "source": [
        "We define $\\bar{p}_t = \\frac{1}{t}\\sum_{s=1}^t p_s$. Plot the Euclidian distance of this vector to the point $(1/3, 1/3, 1/3)$ for both strategies. What do you observe. You should that we remain around it. (the vectors actually converge almost surely to a Nash equilibrium)."
      ],
      "metadata": {
        "id": "e9IwSfPEzRAB"
      }
    },
    {
      "cell_type": "code",
      "source": [
        "# ---\n",
        "# ADD YOUR CODE HERE\n",
        "# ---"
      ],
      "metadata": {
        "id": "z8TSvX4Xxyzy"
      },
      "execution_count": null,
      "outputs": []
    },
    {
      "cell_type": "markdown",
      "source": [
        "## Bonus: Bandit feedback\n",
        "\n",
        "Do the same with Bandit feedback and Algorithm EXP3 instead of EWA."
      ],
      "metadata": {
        "id": "K0HKd92a3l-j"
      }
    },
    {
      "cell_type": "markdown",
      "source": [
        "# References\n",
        "- Sequential Learning Homework, Master MVA, 2021-2022, P. Gaillard & R. Degenne\n",
        "- Duchi, J., Shalev-Shwartz, S., Singer, Y., & Chandra, T. (2008, July). Efficient projections onto the l 1-ball for learning in high dimensions. In Proceedings of the 25th international conference on Machine learning (pp. 272-279)."
      ],
      "metadata": {
        "id": "HXPm5UaZppkU"
      }
    }
  ]
}